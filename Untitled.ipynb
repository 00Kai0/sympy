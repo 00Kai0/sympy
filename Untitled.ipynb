{
 "cells": [
  {
   "cell_type": "code",
   "execution_count": 1,
   "metadata": {
    "collapsed": true
   },
   "outputs": [],
   "source": [
    "from sympy import *\n",
    "import sympy.stats as stats\n",
    "init_printing(use_latex='png')"
   ]
  },
  {
   "cell_type": "code",
   "execution_count": null,
   "metadata": {
    "collapsed": true
   },
   "outputs": [],
   "source": []
  },
  {
   "cell_type": "code",
   "execution_count": 10,
   "metadata": {},
   "outputs": [
    {
     "data": {
      "image/png": "[encoded data removed]",
      "text/plain": [
       " ∞                                                     \n",
       " ⌠                                                     \n",
       " ⎮  ⎧             m                                    \n",
       " ⎮  ⎪────────────────────────────  for 0 ≤ m ∧ m ≤ 1   \n",
       " ⎮  ⎪ ∞                                                \n",
       " ⎮  ⎪ ⌠                                                \n",
       " ⎮  ⎪ ⎮  ⎧1  for 0 ≤ m ∧ m ≤ 1                         \n",
       " ⎮  ⎨ ⎮  ⎨                     dm                    dm\n",
       " ⎮  ⎪ ⎮  ⎩0      otherwise                             \n",
       " ⎮  ⎪ ⌡                                                \n",
       " ⎮  ⎪1/2                                               \n",
       " ⎮  ⎪                                                  \n",
       " ⎮  ⎩             0                    otherwise       \n",
       " ⌡                                                     \n",
       "1/2                                                    "
      ]
     },
     "execution_count": 10,
     "metadata": {},
     "output_type": "execute_result"
    }
   ],
   "source": [
    "m = stats.Uniform('m', 0, 1)\n",
    "stats.E(m, m > Rational(1, 2), evaluate=False)"
   ]
  },
  {
   "cell_type": "code",
   "execution_count": 9,
   "metadata": {},
   "outputs": [
    {
     "data": {
      "image/png": "[encoded data removed]",
      "text/plain": [
       " ∞                                 \n",
       " ⌠                                 \n",
       " ⎮  ⎧   m                          \n",
       " ⎮  ⎪────────  for m ≥ 0 ∧ m ≤ 1   \n",
       " ⎮  ⎪ ∞                            \n",
       " ⎮  ⎪ ⌠                            \n",
       " ⎮  ⎨ ⎮  1 dm                    dm\n",
       " ⎮  ⎪ ⌡                            \n",
       " ⎮  ⎪0.5                           \n",
       " ⎮  ⎪                              \n",
       " ⎮  ⎩  nan         otherwise       \n",
       " ⌡                                 \n",
       "0.5                                "
      ]
     },
     "execution_count": 9,
     "metadata": {},
     "output_type": "execute_result"
    }
   ],
   "source": [
    "Integral(Piecewise((m/Integral(1, (m, 0.5, S.Infinity)), (0 <= m) & (m <= 1)), (S.NaN, True)), (m, 0.5, S.Infinity))"
   ]
  },
  {
   "cell_type": "code",
   "execution_count": null,
   "metadata": {
    "collapsed": true
   },
   "outputs": [],
   "source": []
  }
 ],
 "metadata": {
  "kernelspec": {
   "display_name": "Python 3",
   "language": "python",
   "name": "python3"
  },
  "language_info": {
   "codemirror_mode": {
    "name": "ipython",
    "version": 3
   },
   "file_extension": ".py",
   "mimetype": "text/x-python",
   "name": "python",
   "nbconvert_exporter": "python",
   "pygments_lexer": "ipython3",
   "version": "3.6.1"
  }
 },
 "nbformat": 4,
 "nbformat_minor": 2
}
