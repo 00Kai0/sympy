{
 "cells": [
  {
   "cell_type": "code",
   "execution_count": 1,
   "metadata": {
    "collapsed": true
   },
   "outputs": [],
   "source": [
    "import sympy as sym\n",
    "from sympy.polys import subresultants_qq_zz\n",
    "\n",
    "sym.init_printing()"
   ]
  },
  {
   "cell_type": "code",
   "execution_count": 2,
   "metadata": {},
   "outputs": [],
   "source": [
    "assert sym.__version__ == '1.1.2.dev'"
   ]
  },
  {
   "cell_type": "markdown",
   "metadata": {},
   "source": [
    "The Bezout matrix is a special square matrix associated with two polynomials, introduced by Sylvester (1853) and Cayley (1857) and named after Étienne Bézout. Bézoutian may also refer to the determinant of this matrix, which is equal to the resultant of the two polynomials.\n",
    "\n",
    "The entries of Bezout matrix are bilinear functions of coefficients of the given polynomials. The Bezout formulation has gone over different generalizations. The most common one is the Cayley that is used after for the Dixon  formulation as well."
   ]
  },
  {
   "cell_type": "markdown",
   "metadata": {},
   "source": [
    "$$\\left|\\begin{matrix}\n",
    "p(x) & q(x)\\cr\n",
    "p(a)& q(a)\n",
    "\\end{matrix}%\n",
    "\\right|= \\Delta(x, a)$$"
   ]
  },
  {
   "cell_type": "markdown",
   "metadata": {},
   "source": [
    "$\\Delta(x, a)$ is the determinant of the matrix."
   ]
  },
  {
   "cell_type": "markdown",
   "metadata": {},
   "source": [
    "We have the polynomial:\n",
    "\n",
    "$$ \\delta(x, a) = \\frac{\\Delta(x,a)}{x-a}$$\n",
    "\n",
    "The matrix is then constructed from the coefficients of polynomial $\\alpha$. Each coefficient is viewed as a polynomial of $x_1,..., x_n$."
   ]
  },
  {
   "cell_type": "markdown",
   "metadata": {},
   "source": [
    "The Bezout matrix is highly related to the Sylvester matrix and the greatest common divisor of polynomials. Unlike in Sylvester's formulation, where the resultant of $p$ and $q$ is the determinant of an $(m + n) \\times (m + n)$ matrix, in the Cayley formulation, the resultant is obtained\n",
    "as the determinant of a $n \\times n$ matrix."
   ]
  },
  {
   "cell_type": "markdown",
   "metadata": {},
   "source": [
    "Example: Generic example\n",
    "------------------------"
   ]
  },
  {
   "cell_type": "code",
   "execution_count": 3,
   "metadata": {
    "collapsed": true
   },
   "outputs": [],
   "source": [
    "b_3, b_2, b_1, b_0 = sym.symbols(\"b_3, b_2, b_1, b_0\")\n",
    "x = sym.symbols('x')"
   ]
  },
  {
   "cell_type": "code",
   "execution_count": 4,
   "metadata": {
    "collapsed": true
   },
   "outputs": [],
   "source": [
    "b = sym.IndexedBase(\"b\")"
   ]
  },
  {
   "cell_type": "code",
   "execution_count": 5,
   "metadata": {
    "collapsed": true
   },
   "outputs": [],
   "source": [
    "p = sym.lambdify(x, b_2 * x ** 2 + b_1 * x + b_0)\n",
    "q = sym.lambdify(x, sym.diff(p(x), x))"
   ]
  },
  {
   "cell_type": "code",
   "execution_count": 6,
   "metadata": {},
   "outputs": [
    {
     "data": {
      "text/latex": [
       "$$\\left[\\begin{matrix}- 2 b_{0} b_{2} + b_{1}^{2} & b_{1} b_{2}\\\\b_{1} b_{2} & 2 b_{2}^{2}\\end{matrix}\\right]$$"
      ],
      "text/plain": [
       "⎡             2       ⎤\n",
       "⎢-2⋅b₀⋅b₂ + b₁   b₁⋅b₂⎥\n",
       "⎢                     ⎥\n",
       "⎢                    2⎥\n",
       "⎣    b₁⋅b₂       2⋅b₂ ⎦"
      ]
     },
     "execution_count": 6,
     "metadata": {},
     "output_type": "execute_result"
    }
   ],
   "source": [
    "subresultants_qq_zz.bezout(p(x), q(x), x)"
   ]
  },
  {
   "cell_type": "markdown",
   "metadata": {},
   "source": [
    "Example: Existence of common roots\n",
    "------------------------------------------\n",
    "\n",
    "Note that if the system has a common root we are expecting the resultant/determinant to equal to zero."
   ]
  },
  {
   "cell_type": "markdown",
   "metadata": {},
   "source": [
    "**A commot root exists.**"
   ]
  },
  {
   "cell_type": "code",
   "execution_count": 7,
   "metadata": {
    "collapsed": true
   },
   "outputs": [],
   "source": [
    "# example one\n",
    "p = sym.lambdify(x, x**3 +1)\n",
    "q = sym.lambdify(x, x + 1)"
   ]
  },
  {
   "cell_type": "code",
   "execution_count": 8,
   "metadata": {},
   "outputs": [
    {
     "data": {
      "text/latex": [
       "$$\\left[\\begin{matrix}-1 & 0 & 1\\\\0 & 1 & 1\\\\1 & 1 & 0\\end{matrix}\\right]$$"
      ],
      "text/plain": [
       "⎡-1  0  1⎤\n",
       "⎢        ⎥\n",
       "⎢0   1  1⎥\n",
       "⎢        ⎥\n",
       "⎣1   1  0⎦"
      ]
     },
     "execution_count": 8,
     "metadata": {},
     "output_type": "execute_result"
    }
   ],
   "source": [
    "subresultants_qq_zz.bezout(p(x), q(x), x)"
   ]
  },
  {
   "cell_type": "code",
   "execution_count": 9,
   "metadata": {},
   "outputs": [
    {
     "data": {
      "text/latex": [
       "$$0$$"
      ],
      "text/plain": [
       "0"
      ]
     },
     "execution_count": 9,
     "metadata": {},
     "output_type": "execute_result"
    }
   ],
   "source": [
    "subresultants_qq_zz.bezout(p(x), q(x), x).det()"
   ]
  },
  {
   "cell_type": "code",
   "execution_count": 10,
   "metadata": {
    "collapsed": true
   },
   "outputs": [],
   "source": [
    "# example two\n",
    "p = sym.lambdify(x, x ** 2 - 5 * x + 6)\n",
    "q = sym.lambdify(x, x ** 2 - 3 * x + 2)"
   ]
  },
  {
   "cell_type": "code",
   "execution_count": 11,
   "metadata": {},
   "outputs": [
    {
     "data": {
      "text/latex": [
       "$$\\left[\\begin{matrix}8 & -4\\\\-4 & 2\\end{matrix}\\right]$$"
      ],
      "text/plain": [
       "⎡8   -4⎤\n",
       "⎢      ⎥\n",
       "⎣-4  2 ⎦"
      ]
     },
     "execution_count": 11,
     "metadata": {},
     "output_type": "execute_result"
    }
   ],
   "source": [
    "subresultants_qq_zz.bezout(p(x), q(x), x)"
   ]
  },
  {
   "cell_type": "code",
   "execution_count": 12,
   "metadata": {},
   "outputs": [
    {
     "data": {
      "text/latex": [
       "$$0$$"
      ],
      "text/plain": [
       "0"
      ]
     },
     "execution_count": 12,
     "metadata": {},
     "output_type": "execute_result"
    }
   ],
   "source": [
    "subresultants_qq_zz.bezout(p(x), q(x), x).det()"
   ]
  },
  {
   "cell_type": "markdown",
   "metadata": {},
   "source": [
    "**A common root does not exist.**"
   ]
  },
  {
   "cell_type": "code",
   "execution_count": 13,
   "metadata": {
    "collapsed": true
   },
   "outputs": [],
   "source": [
    "z = sym.lambdify(x, x ** 2 - 7 * x + 12)\n",
    "h = sym.lambdify(x, x ** 2 - x)"
   ]
  },
  {
   "cell_type": "code",
   "execution_count": 14,
   "metadata": {},
   "outputs": [
    {
     "data": {
      "text/latex": [
       "$$-72$$"
      ],
      "text/plain": [
       "-72"
      ]
     },
     "execution_count": 14,
     "metadata": {},
     "output_type": "execute_result"
    }
   ],
   "source": [
    "subresultants_qq_zz.bezout(z(x), h(x), x).det()"
   ]
  },
  {
   "cell_type": "markdown",
   "metadata": {},
   "source": [
    "Dixon's Resultant\n",
    "-----------------\n",
    "\n",
    "Dixon (1908) showed how to extend this formulation to $m = 3$ polynomials in $n = 2$ variables."
   ]
  },
  {
   "cell_type": "markdown",
   "metadata": {},
   "source": [
    "In a similar manner but this time,\n",
    "\n",
    "$$\\left|\\begin{matrix}\n",
    "p(x, y) & q(x, y) & h(x, y) \\cr\n",
    "p(a, y) & q(a, y) & h(b, y) \\cr\n",
    "p(a, b) & q(a, b) & h(a, b)\n",
    "\\end{matrix}%\n",
    "\\right|= \\Delta(x, y, \\alpha, \\beta)$$"
   ]
  },
  {
   "cell_type": "markdown",
   "metadata": {},
   "source": [
    "Thus, we have the polynomial:\n",
    "\n",
    "$$ \\delta(x,y, \\alpha, \\beta) = \\frac{\\Delta(x, y, \\alpha, \\beta)}{(x-\\alpha)(y - \\beta)}$$"
   ]
  },
  {
   "cell_type": "code",
   "execution_count": 15,
   "metadata": {},
   "outputs": [],
   "source": [
    "from sympy.polys.multivariate_resultants import DixonResultant"
   ]
  },
  {
   "cell_type": "markdown",
   "metadata": {},
   "source": [
    "Example: Generic example of Dixon $(n=2, m=3)$\n",
    "---------------------------------------------------"
   ]
  },
  {
   "cell_type": "code",
   "execution_count": 16,
   "metadata": {
    "collapsed": true
   },
   "outputs": [],
   "source": [
    "a_1, a_2, b_1, b_2, u_1, u_2, u_3 = sym.symbols('a_1, a_2, b_1, b_2, u_1, u_2, u_3')"
   ]
  },
  {
   "cell_type": "code",
   "execution_count": 17,
   "metadata": {
    "collapsed": true
   },
   "outputs": [],
   "source": [
    "y = sym.symbols('y')"
   ]
  },
  {
   "cell_type": "code",
   "execution_count": 18,
   "metadata": {},
   "outputs": [],
   "source": [
    "p = sym.lambdify((x, y), a_1 * x ** 2 * y ** 2 + a_2 * x ** 2)\n",
    "q = sym.lambdify((x, y), b_1 * x ** 2 * y ** 2 + b_2 * y ** 2)\n",
    "h = sym.lambdify((x, y), u_1 * x + u_2 * y + u_3)"
   ]
  },
  {
   "cell_type": "code",
   "execution_count": 19,
   "metadata": {},
   "outputs": [],
   "source": [
    "dixon = DixonResultant(variables=[x, y], polynomials=[p, q, h])"
   ]
  },
  {
   "cell_type": "code",
   "execution_count": 20,
   "metadata": {
    "collapsed": true
   },
   "outputs": [],
   "source": [
    "poly = dixon.get_dixon_polynomial()"
   ]
  },
  {
   "cell_type": "code",
   "execution_count": 21,
   "metadata": {},
   "outputs": [
    {
     "data": {
      "text/latex": [
       "$$\\operatorname{Poly}{\\left( \\left(a_{2} b_{1} u_{1} x + a_{2} b_{1} u_{2} y + a_{2} b_{1} u_{3}\\right) \\alpha_{0}^{3}\\alpha_{1} + \\left(a_{2} b_{1} u_{1} x y + a_{2} b_{1} u_{2} y^{2} + a_{2} b_{1} u_{3} y\\right) \\alpha_{0}^{3} + \\left(a_{1} b_{2} u_{1} y^{2} + a_{2} b_{1} u_{2} x y + a_{2} b_{1} u_{3} x\\right) \\alpha_{0}^{2}\\alpha_{1} + \\left(a_{1} b_{2} u_{1} y^{3} + a_{2} b_{1} u_{2} x y^{2} + a_{2} b_{1} u_{3} x y\\right) \\alpha_{0}^{2} + \\left(a_{1} b_{2} u_{1} x y^{2} + a_{1} b_{2} u_{2} y^{3} + a_{1} b_{2} u_{3} y^{2} + a_{2} b_{2} u_{1} x + a_{2} b_{2} u_{2} y + a_{2} b_{2} u_{3}\\right) \\alpha_{0}\\alpha_{1} + \\left(a_{1} b_{2} u_{1} x y^{3} + a_{1} b_{2} u_{3} y^{3} + a_{2} b_{2} u_{1} x y + a_{2} b_{2} u_{3} y\\right) \\alpha_{0} + \\left(a_{1} b_{2} u_{2} x y^{3} + a_{1} b_{2} u_{3} x y^{2} + a_{2} b_{2} u_{2} x y + a_{2} b_{2} u_{3} x\\right) \\alpha_{1} + a_{1} b_{2} u_{3} x y^{3} + a_{2} b_{2} u_{3} x y, \\alpha_{0}, \\alpha_{1}, domain=\\mathbb{Z}\\left[x, y, a_{1}, a_{2}, b_{1}, b_{2}, u_{1}, u_{2}, u_{3}\\right] \\right)}$$"
      ],
      "text/plain": [
       "Poly((a_2*b_1*u_1*x + a_2*b_1*u_2*y + a_2*b_1*u_3)*alpha[0]**3*alpha[1] + (a_2\n",
       "*b_1*u_1*x*y + a_2*b_1*u_2*y**2 + a_2*b_1*u_3*y)*alpha[0]**3 + (a_1*b_2*u_1*y*\n",
       "*2 + a_2*b_1*u_2*x*y + a_2*b_1*u_3*x)*alpha[0]**2*alpha[1] + (a_1*b_2*u_1*y**3\n",
       " + a_2*b_1*u_2*x*y**2 + a_2*b_1*u_3*x*y)*alpha[0]**2 + (a_1*b_2*u_1*x*y**2 + a\n",
       "_1*b_2*u_2*y**3 + a_1*b_2*u_3*y**2 + a_2*b_2*u_1*x + a_2*b_2*u_2*y + a_2*b_2*u\n",
       "_3)*alpha[0]*alpha[1] + (a_1*b_2*u_1*x*y**3 + a_1*b_2*u_3*y**3 + a_2*b_2*u_1*x\n",
       "*y + a_2*b_2*u_3*y)*alpha[0] + (a_1*b_2*u_2*x*y**3 + a_1*b_2*u_3*x*y**2 + a_2*\n",
       "b_2*u_2*x*y + a_2*b_2*u_3*x)*alpha[1] + a_1*b_2*u_3*x*y**3 + a_2*b_2*u_3*x*y, \n",
       "alpha[0], alpha[1], domain='ZZ[x,y,a_1,a_2,b_1,b_2,u_1,u_2,u_3]')"
      ]
     },
     "execution_count": 21,
     "metadata": {},
     "output_type": "execute_result"
    }
   ],
   "source": [
    "poly"
   ]
  },
  {
   "cell_type": "code",
   "execution_count": 22,
   "metadata": {
    "collapsed": true
   },
   "outputs": [],
   "source": [
    "matrix = dixon.get_dixon_matrix(poly)"
   ]
  },
  {
   "cell_type": "code",
   "execution_count": 23,
   "metadata": {},
   "outputs": [
    {
     "data": {
      "text/latex": [
       "$$\\left[\\begin{matrix}0 & 0 & 0 & a_{2} b_{1} u_{1} & 0 & 0 & a_{2} b_{1} u_{2} & a_{2} b_{1} u_{3}\\\\0 & 0 & a_{2} b_{1} u_{1} & 0 & 0 & a_{2} b_{1} u_{2} & a_{2} b_{1} u_{3} & 0\\\\0 & 0 & a_{2} b_{1} u_{2} & a_{2} b_{1} u_{3} & 0 & a_{1} b_{2} u_{1} & 0 & 0\\\\0 & a_{2} b_{1} u_{2} & a_{2} b_{1} u_{3} & 0 & a_{1} b_{2} u_{1} & 0 & 0 & 0\\\\0 & a_{1} b_{2} u_{1} & 0 & a_{2} b_{2} u_{1} & a_{1} b_{2} u_{2} & a_{1} b_{2} u_{3} & a_{2} b_{2} u_{2} & a_{2} b_{2} u_{3}\\\\a_{1} b_{2} u_{1} & 0 & a_{2} b_{2} u_{1} & 0 & a_{1} b_{2} u_{3} & 0 & a_{2} b_{2} u_{3} & 0\\\\a_{1} b_{2} u_{2} & a_{1} b_{2} u_{3} & a_{2} b_{2} u_{2} & a_{2} b_{2} u_{3} & 0 & 0 & 0 & 0\\\\a_{1} b_{2} u_{3} & 0 & a_{2} b_{2} u_{3} & 0 & 0 & 0 & 0 & 0\\end{matrix}\\right]$$"
      ],
      "text/plain": [
       "⎡   0         0         0      a₂⋅b₁⋅u₁     0         0      a₂⋅b₁⋅u₂  a₂⋅b₁⋅u\n",
       "⎢                                                                             \n",
       "⎢   0         0      a₂⋅b₁⋅u₁     0         0      a₂⋅b₁⋅u₂  a₂⋅b₁⋅u₃     0   \n",
       "⎢                                                                             \n",
       "⎢   0         0      a₂⋅b₁⋅u₂  a₂⋅b₁⋅u₃     0      a₁⋅b₂⋅u₁     0         0   \n",
       "⎢                                                                             \n",
       "⎢   0      a₂⋅b₁⋅u₂  a₂⋅b₁⋅u₃     0      a₁⋅b₂⋅u₁     0         0         0   \n",
       "⎢                                                                             \n",
       "⎢   0      a₁⋅b₂⋅u₁     0      a₂⋅b₂⋅u₁  a₁⋅b₂⋅u₂  a₁⋅b₂⋅u₃  a₂⋅b₂⋅u₂  a₂⋅b₂⋅u\n",
       "⎢                                                                             \n",
       "⎢a₁⋅b₂⋅u₁     0      a₂⋅b₂⋅u₁     0      a₁⋅b₂⋅u₃     0      a₂⋅b₂⋅u₃     0   \n",
       "⎢                                                                             \n",
       "⎢a₁⋅b₂⋅u₂  a₁⋅b₂⋅u₃  a₂⋅b₂⋅u₂  a₂⋅b₂⋅u₃     0         0         0         0   \n",
       "⎢                                                                             \n",
       "⎣a₁⋅b₂⋅u₃     0      a₂⋅b₂⋅u₃     0         0         0         0         0   \n",
       "\n",
       "₃⎤\n",
       " ⎥\n",
       " ⎥\n",
       " ⎥\n",
       " ⎥\n",
       " ⎥\n",
       " ⎥\n",
       " ⎥\n",
       "₃⎥\n",
       " ⎥\n",
       " ⎥\n",
       " ⎥\n",
       " ⎥\n",
       " ⎥\n",
       " ⎦"
      ]
     },
     "execution_count": 23,
     "metadata": {},
     "output_type": "execute_result"
    }
   ],
   "source": [
    "matrix"
   ]
  },
  {
   "cell_type": "code",
   "execution_count": 24,
   "metadata": {},
   "outputs": [
    {
     "data": {
      "text/latex": [
       "$$a_{1}^{2} a_{2}^{4} b_{1}^{2} b_{2}^{4} u_{3}^{4} \\left(a_{1}^{2} b_{1}^{2} u_{3}^{4} + 2 a_{1}^{2} b_{1} b_{2} u_{1}^{2} u_{3}^{2} + a_{1}^{2} b_{2}^{2} u_{1}^{4} + 2 a_{1} a_{2} b_{1}^{2} u_{2}^{2} u_{3}^{2} - 2 a_{1} a_{2} b_{1} b_{2} u_{1}^{2} u_{2}^{2} + a_{2}^{2} b_{1}^{2} u_{2}^{4}\\right)$$"
      ],
      "text/plain": [
       "  2   4   2   4   4 ⎛  2   2   4       2         2   2     2   2   4          \n",
       "a₁ ⋅a₂ ⋅b₁ ⋅b₂ ⋅u₃ ⋅⎝a₁ ⋅b₁ ⋅u₃  + 2⋅a₁ ⋅b₁⋅b₂⋅u₁ ⋅u₃  + a₁ ⋅b₂ ⋅u₁  + 2⋅a₁⋅a₂\n",
       "\n",
       "   2   2   2                   2   2     2   2   4⎞\n",
       "⋅b₁ ⋅u₂ ⋅u₃  - 2⋅a₁⋅a₂⋅b₁⋅b₂⋅u₁ ⋅u₂  + a₂ ⋅b₁ ⋅u₂ ⎠"
      ]
     },
     "execution_count": 24,
     "metadata": {},
     "output_type": "execute_result"
    }
   ],
   "source": [
    "matrix.det().factor()"
   ]
  },
  {
   "cell_type": "markdown",
   "metadata": {
    "collapsed": true
   },
   "source": [
    "Dixon's General Case\n",
    "--------------------"
   ]
  },
  {
   "cell_type": "markdown",
   "metadata": {},
   "source": [
    "[Yang et al.](https://rd.springer.com/chapter/10.1007/3-540-63104-6_11) generalized the Dixon resultant method of three polynomials with two variables to the system of $n+1$ polynomials with $n$ variables."
   ]
  },
  {
   "cell_type": "markdown",
   "metadata": {},
   "source": [
    "Example: Numerical example\n",
    "--------------------"
   ]
  },
  {
   "cell_type": "code",
   "execution_count": 25,
   "metadata": {
    "collapsed": true
   },
   "outputs": [],
   "source": [
    "p = sym.lambdify((x, y), x + y)\n",
    "q = sym.lambdify((x, y), x ** 2 + y **3)\n",
    "h = sym.lambdify((x, y), x ** 2 + y)"
   ]
  },
  {
   "cell_type": "code",
   "execution_count": 26,
   "metadata": {
    "collapsed": true
   },
   "outputs": [],
   "source": [
    "dixon = DixonResultant([p, q, h], (x, y))"
   ]
  },
  {
   "cell_type": "code",
   "execution_count": 27,
   "metadata": {},
   "outputs": [
    {
     "data": {
      "text/latex": [
       "$$\\operatorname{Poly}{\\left( -xy^{2}\\alpha_{0} - xy^{2}\\alpha_{1} - xy\\alpha_{0}\\alpha_{1} - xy\\alpha_{1}^{2} - x\\alpha_{0}\\alpha_{1}^{2} + x\\alpha_{0} - y^{2}\\alpha_{0}\\alpha_{1} + y^{2}\\alpha_{1} - y\\alpha_{0}\\alpha_{1}^{2} + y\\alpha_{1}^{2}, x, y, \\alpha_{0}, \\alpha_{1}, domain=\\mathbb{Z} \\right)}$$"
      ],
      "text/plain": [
       "Poly(-x*y**2*alpha[0] - x*y**2*alpha[1] - x*y*alpha[0]*alpha[1] - x*y*alpha[1]\n",
       "**2 - x*alpha[0]*alpha[1]**2 + x*alpha[0] - y**2*alpha[0]*alpha[1] + y**2*alph\n",
       "a[1] - y*alpha[0]*alpha[1]**2 + y*alpha[1]**2, x, y, alpha[0], alpha[1], domai\n",
       "n='ZZ')"
      ]
     },
     "execution_count": 27,
     "metadata": {},
     "output_type": "execute_result"
    }
   ],
   "source": [
    "poly = dixon.get_dixon_polynomial()\n",
    "poly.simplify()"
   ]
  },
  {
   "cell_type": "code",
   "execution_count": 28,
   "metadata": {},
   "outputs": [
    {
     "data": {
      "text/latex": [
       "$$\\left[\\begin{matrix}0 & 0 & -1 & 0 & -1\\\\0 & -1 & 0 & -1 & 0\\\\-1 & 0 & 1 & 0 & 0\\\\0 & -1 & 0 & 0 & 1\\\\-1 & 0 & 0 & 1 & 0\\end{matrix}\\right]$$"
      ],
      "text/plain": [
       "⎡0   0   -1  0   -1⎤\n",
       "⎢                  ⎥\n",
       "⎢0   -1  0   -1  0 ⎥\n",
       "⎢                  ⎥\n",
       "⎢-1  0   1   0   0 ⎥\n",
       "⎢                  ⎥\n",
       "⎢0   -1  0   0   1 ⎥\n",
       "⎢                  ⎥\n",
       "⎣-1  0   0   1   0 ⎦"
      ]
     },
     "execution_count": 28,
     "metadata": {},
     "output_type": "execute_result"
    }
   ],
   "source": [
    "matrix = dixon.get_dixon_matrix(polynomial=poly)\n",
    "matrix"
   ]
  },
  {
   "cell_type": "code",
   "execution_count": 29,
   "metadata": {},
   "outputs": [
    {
     "data": {
      "text/latex": [
       "$$0$$"
      ],
      "text/plain": [
       "0"
      ]
     },
     "execution_count": 29,
     "metadata": {},
     "output_type": "execute_result"
    }
   ],
   "source": [
    "matrix.det()"
   ]
  },
  {
   "cell_type": "markdown",
   "metadata": {},
   "source": [
    "Example: Generic example\n",
    "---------"
   ]
  },
  {
   "cell_type": "code",
   "execution_count": 30,
   "metadata": {
    "collapsed": true
   },
   "outputs": [],
   "source": [
    "a, b, c = sym.symbols('a, b, c')"
   ]
  },
  {
   "cell_type": "code",
   "execution_count": 31,
   "metadata": {},
   "outputs": [
    {
     "data": {
      "text/latex": [
       "$$4 a b + c y \\left(a + b\\right) + x \\left(4 a - 4 b\\right)$$"
      ],
      "text/plain": [
       "4⋅a⋅b + c⋅y⋅(a + b) + x⋅(4⋅a - 4⋅b)"
      ]
     },
     "execution_count": 31,
     "metadata": {},
     "output_type": "execute_result"
    }
   ],
   "source": [
    "p_1 = sym.lambdify((x, y), a * x ** 2 + b * x * y + (b + c - a) * x + a * y + 3 * (c - 1))\n",
    "p_2 = sym.lambdify((x, y), 2 * a ** 2 * x ** 2 + 2 * a * b * x * y + a * b * y + b ** 3)\n",
    "p_3 = sym.lambdify((x, y), 4 * (a - b) * x + c * (a + b) * y + 4 * a * b)\n",
    "p_3(x, y)"
   ]
  },
  {
   "cell_type": "code",
   "execution_count": 32,
   "metadata": {
    "collapsed": true
   },
   "outputs": [],
   "source": [
    "polynomials = [p_1, p_2, p_3]"
   ]
  },
  {
   "cell_type": "code",
   "execution_count": 33,
   "metadata": {},
   "outputs": [],
   "source": [
    "dixon = DixonResultant(polynomials, [x, y])"
   ]
  },
  {
   "cell_type": "code",
   "execution_count": 34,
   "metadata": {
    "collapsed": true
   },
   "outputs": [],
   "source": [
    "poly = dixon.get_dixon_polynomial()"
   ]
  },
  {
   "cell_type": "code",
   "execution_count": 35,
   "metadata": {},
   "outputs": [],
   "source": [
    "coeff = dixon.get_coefficients_of_alpha(poly)"
   ]
  },
  {
   "cell_type": "code",
   "execution_count": 36,
   "metadata": {},
   "outputs": [
    {
     "data": {
      "text/latex": [
       "$$2$$"
      ],
      "text/plain": [
       "2"
      ]
     },
     "execution_count": 36,
     "metadata": {},
     "output_type": "execute_result"
    }
   ],
   "source": [
    "size = len(poly.monoms())\n",
    "size"
   ]
  },
  {
   "cell_type": "code",
   "execution_count": 37,
   "metadata": {},
   "outputs": [
    {
     "data": {
      "text/latex": [
       "$$\\left[\\begin{matrix}- 2 a^{4} c - 8 a^{4} + 12 a^{3} b + 2 a^{3} c^{2} + 2 a^{2} b^{2} c - 4 a^{2} b^{2} + 2 a^{2} b c^{2} & - 2 a^{3} b c - 8 a^{3} b + 12 a^{2} b^{2} + 2 a^{2} b c^{2} + 2 a b^{3} c - 4 a b^{3} + 2 a b^{2} c^{2} & - 8 a^{4} b - 4 a^{3} b^{2} + 6 a^{3} c^{2} - 6 a^{3} c - a^{2} b^{3} c + 8 a^{2} b^{3} + 8 a^{2} b^{2} c + 6 a^{2} b c^{2} - 30 a^{2} b c + 24 a^{2} b - a b^{4} c + 4 a b^{4} + 24 a b^{2} c - 24 a b^{2} - 4 b^{5}\\\\- 8 a^{4} b + 4 a^{3} b^{2} + 6 a^{3} c^{2} - 6 a^{3} c - a^{2} b^{3} c + 6 a^{2} b c^{2} - 6 a^{2} b c - a b^{4} c & - 8 a^{3} b^{2} + 4 a^{2} b^{3} + 6 a^{2} b c^{2} - 6 a^{2} b c - a b^{4} c + 6 a b^{2} c^{2} - 6 a b^{2} c - b^{5} c & - 4 a^{3} b^{2} + a^{2} b^{3} c + 8 a^{2} b^{3} + 4 a^{2} b^{2} c - 12 a^{2} b c + 12 a^{2} b - 4 a b^{4} - a b^{3} c^{2} + 12 a b^{2} c - 12 a b^{2} - b^{5} c - b^{4} c^{2}\\end{matrix}\\right]$$"
      ],
      "text/plain": [
       "⎡          4        4       3        3  2      2  2        2  2      2    2   \n",
       "⎢     - 2⋅a ⋅c - 8⋅a  + 12⋅a ⋅b + 2⋅a ⋅c  + 2⋅a ⋅b ⋅c - 4⋅a ⋅b  + 2⋅a ⋅b⋅c    \n",
       "⎢                                                                             \n",
       "⎢     4        3  2      3  2      3      2  3        2    2      2          4\n",
       "⎣- 8⋅a ⋅b + 4⋅a ⋅b  + 6⋅a ⋅c  - 6⋅a ⋅c - a ⋅b ⋅c + 6⋅a ⋅b⋅c  - 6⋅a ⋅b⋅c - a⋅b \n",
       "\n",
       "            3          3         2  2      2    2        3          3        2\n",
       "       - 2⋅a ⋅b⋅c - 8⋅a ⋅b + 12⋅a ⋅b  + 2⋅a ⋅b⋅c  + 2⋅a⋅b ⋅c - 4⋅a⋅b  + 2⋅a⋅b \n",
       "                                                                              \n",
       "         3  2      2  3      2    2      2          4          2  2        2  \n",
       "⋅c  - 8⋅a ⋅b  + 4⋅a ⋅b  + 6⋅a ⋅b⋅c  - 6⋅a ⋅b⋅c - a⋅b ⋅c + 6⋅a⋅b ⋅c  - 6⋅a⋅b ⋅c\n",
       "\n",
       "  2           4        3  2      3  2      3      2  3        2  3      2  2  \n",
       "⋅c       - 8⋅a ⋅b - 4⋅a ⋅b  + 6⋅a ⋅c  - 6⋅a ⋅c - a ⋅b ⋅c + 8⋅a ⋅b  + 8⋅a ⋅b ⋅c\n",
       "                                                                              \n",
       "    5                        3  2    2  3        2  3      2  2         2     \n",
       " - b ⋅c                 - 4⋅a ⋅b  + a ⋅b ⋅c + 8⋅a ⋅b  + 4⋅a ⋅b ⋅c - 12⋅a ⋅b⋅c \n",
       "\n",
       "      2    2       2           2        4          4         2           2    \n",
       " + 6⋅a ⋅b⋅c  - 30⋅a ⋅b⋅c + 24⋅a ⋅b - a⋅b ⋅c + 4⋅a⋅b  + 24⋅a⋅b ⋅c - 24⋅a⋅b  - 4\n",
       "                                                                              \n",
       "      2          4      3  2         2           2    5      4  2             \n",
       "+ 12⋅a ⋅b - 4⋅a⋅b  - a⋅b ⋅c  + 12⋅a⋅b ⋅c - 12⋅a⋅b  - b ⋅c - b ⋅c              \n",
       "\n",
       "  5⎤\n",
       "⋅b ⎥\n",
       "   ⎥\n",
       "   ⎥\n",
       "   ⎦"
      ]
     },
     "execution_count": 37,
     "metadata": {},
     "output_type": "execute_result"
    }
   ],
   "source": [
    "matrix = dixon.get_dixon_matrix(poly)\n",
    "matrix"
   ]
  },
  {
   "cell_type": "markdown",
   "metadata": {},
   "source": [
    "Example: \n",
    "--------------------------------------------------------------------------------------------------\n",
    "**From [Dixon resultant’s solution of systems of geodetic polynomial equations](https://rd.springer.com/content/pdf/10.1007%2Fs00190-007-0199-0.pdf)**\n"
   ]
  },
  {
   "cell_type": "code",
   "execution_count": 38,
   "metadata": {
    "collapsed": true
   },
   "outputs": [],
   "source": [
    "z = sym.symbols('z')"
   ]
  },
  {
   "cell_type": "code",
   "execution_count": 39,
   "metadata": {
    "collapsed": true
   },
   "outputs": [],
   "source": [
    "f = sym.lambdify((y, z), x ** 2 + y ** 2 - 1 + z * 0)\n",
    "g = sym.lambdify((y, z), x ** 2 + z ** 2 - 1 + y * 0)\n",
    "h = sym.lambdify((y, z), y ** 2 + z ** 2 - 1)"
   ]
  },
  {
   "cell_type": "code",
   "execution_count": 40,
   "metadata": {
    "collapsed": true
   },
   "outputs": [],
   "source": [
    "dixon = DixonResultant([f, g, h], [y, z])"
   ]
  },
  {
   "cell_type": "code",
   "execution_count": 41,
   "metadata": {
    "collapsed": true
   },
   "outputs": [],
   "source": [
    "poly = dixon.get_dixon_polynomial()"
   ]
  },
  {
   "cell_type": "code",
   "execution_count": 42,
   "metadata": {},
   "outputs": [
    {
     "data": {
      "text/latex": [
       "$$\\left[\\begin{matrix}0 & 0 & 0 & - 2 x^{2} + 1\\\\0 & 0 & - 2 x^{2} + 1 & 0\\\\0 & - 2 x^{2} + 1 & 0 & 0\\\\- 2 x^{2} + 1 & 0 & 0 & 0\\end{matrix}\\right]$$"
      ],
      "text/plain": [
       "⎡                                         2    ⎤\n",
       "⎢    0           0           0       - 2⋅x  + 1⎥\n",
       "⎢                                              ⎥\n",
       "⎢                             2                ⎥\n",
       "⎢    0           0       - 2⋅x  + 1      0     ⎥\n",
       "⎢                                              ⎥\n",
       "⎢                 2                            ⎥\n",
       "⎢    0       - 2⋅x  + 1      0           0     ⎥\n",
       "⎢                                              ⎥\n",
       "⎢     2                                        ⎥\n",
       "⎣- 2⋅x  + 1      0           0           0     ⎦"
      ]
     },
     "execution_count": 42,
     "metadata": {},
     "output_type": "execute_result"
    }
   ],
   "source": [
    "matrix = dixon.get_dixon_matrix(poly)\n",
    "matrix"
   ]
  },
  {
   "cell_type": "code",
   "execution_count": 43,
   "metadata": {},
   "outputs": [
    {
     "data": {
      "text/latex": [
       "$$16 x^{8} - 32 x^{6} + 24 x^{4} - 8 x^{2} + 1$$"
      ],
      "text/plain": [
       "    8       6       4      2    \n",
       "16⋅x  - 32⋅x  + 24⋅x  - 8⋅x  + 1"
      ]
     },
     "execution_count": 43,
     "metadata": {},
     "output_type": "execute_result"
    }
   ],
   "source": [
    "matrix.det()"
   ]
  }
 ],
 "metadata": {
  "anaconda-cloud": {},
  "kernelspec": {
   "display_name": "resultant",
   "language": "python",
   "name": "mult-resultant"
  },
  "language_info": {
   "codemirror_mode": {
    "name": "ipython",
    "version": 3
   },
   "file_extension": ".py",
   "mimetype": "text/x-python",
   "name": "python",
   "nbconvert_exporter": "python",
   "pygments_lexer": "ipython3",
   "version": "3.5.4"
  }
 },
 "nbformat": 4,
 "nbformat_minor": 2
}
