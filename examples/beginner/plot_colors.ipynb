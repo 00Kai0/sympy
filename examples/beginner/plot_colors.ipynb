{
 "metadata": {
  "name": "plot_colors"
 },
 "nbformat": 2,
 "nbformat_minor": 0,
 "worksheets": [
  {
   "cells": [
    {
     "cell_type": "markdown",
     "metadata": {},
     "source": [
      "#Coloring"
     ]
    },
    {
     "cell_type": "markdown",
     "metadata": {},
     "source": [
      "\n",
      "### Cartesian Line Plot"
     ]
    },
    {
     "cell_type": "code",
     "collapsed": false,
     "input": [
      "from sympy.plotting import plot_line, plot_parametric, plot3D, plot3D_parametric, plot3D_surface"
     ],
     "language": "python",
     "metadata": {},
     "outputs": []
    },
    {
     "cell_type": "code",
     "collapsed": false,
     "input": [
      "p = plot_line(sin(x))"
     ],
     "language": "python",
     "metadata": {},
     "outputs": []
    },
    {
     "cell_type": "markdown",
     "metadata": {},
     "source": [
      "\n",
      "If the `line_color` aesthetic is a function of arity 1 then the coloring is a function of the x value of a point."
     ]
    },
    {
     "cell_type": "code",
     "collapsed": false,
     "input": [
      "p[0].line_color = lambda a : a\n",
      "p.show()"
     ],
     "language": "python",
     "metadata": {},
     "outputs": []
    },
    {
     "cell_type": "markdown",
     "metadata": {},
     "source": [
      "\n",
      "If the arity is 2 then the coloring is a function of both coordinates."
     ]
    },
    {
     "cell_type": "code",
     "collapsed": false,
     "input": [
      "p[0].line_color = lambda a, b : b\n",
      "p.show()"
     ],
     "language": "python",
     "metadata": {},
     "outputs": []
    },
    {
     "cell_type": "markdown",
     "metadata": {},
     "source": [
      "### Parametric Lines"
     ]
    },
    {
     "cell_type": "code",
     "collapsed": false,
     "input": [
      "p = plot_parametric(x*sin(x), x*cos(x), (x,  0, 10))"
     ],
     "language": "python",
     "metadata": {},
     "outputs": []
    },
    {
     "cell_type": "markdown",
     "metadata": {},
     "source": [
      "\n",
      "If the arity is 1 the coloring depends on the parameter."
     ]
    },
    {
     "cell_type": "code",
     "collapsed": false,
     "input": [
      "p[0].line_color = lambda a : a\n",
      "p.show()"
     ],
     "language": "python",
     "metadata": {},
     "outputs": []
    },
    {
     "cell_type": "markdown",
     "metadata": {},
     "source": [
      "\n",
      "For arity 2 the coloring depends on coordinates."
     ]
    },
    {
     "cell_type": "code",
     "collapsed": false,
     "input": [
      "p[0].line_color = lambda a, b : a\n",
      "p.show()"
     ],
     "language": "python",
     "metadata": {},
     "outputs": []
    },
    {
     "cell_type": "code",
     "collapsed": false,
     "input": [
      "p[0].line_color = lambda a, b : b\n",
      "p.show()"
     ],
     "language": "python",
     "metadata": {},
     "outputs": []
    },
    {
     "cell_type": "markdown",
     "metadata": {},
     "source": [
      "### 3D Parametric line"
     ]
    },
    {
     "cell_type": "markdown",
     "metadata": {},
     "source": [
      "\n",
      "Arity 1 - the first parameter. Arity 2 or 3 - the first two coordinates or all coordinates."
     ]
    },
    {
     "cell_type": "code",
     "collapsed": false,
     "input": [
      "p = plot3D_parametric(sin(x)+0.1*sin(x)*cos(7*x),\n",
      "         cos(x)+0.1*cos(x)*cos(7*x),\n",
      "         0.1*sin(7*x),\n",
      "         (x, 0, 2*pi))"
     ],
     "language": "python",
     "metadata": {},
     "outputs": []
    },
    {
     "cell_type": "code",
     "collapsed": false,
     "input": [
      "p[0].line_color = lambda a : sin(4*a)\n",
      "p.show()"
     ],
     "language": "python",
     "metadata": {},
     "outputs": []
    },
    {
     "cell_type": "code",
     "collapsed": false,
     "input": [
      "p[0].line_color = lambda a, b : b\n",
      "p.show()"
     ],
     "language": "python",
     "metadata": {},
     "outputs": []
    },
    {
     "cell_type": "code",
     "collapsed": false,
     "input": [
      "p[0].line_color = lambda a, b, c : c\n",
      "p.show()"
     ],
     "language": "python",
     "metadata": {},
     "outputs": []
    },
    {
     "cell_type": "markdown",
     "metadata": {},
     "source": [
      "### Cartesian Surface Plot"
     ]
    },
    {
     "cell_type": "code",
     "collapsed": false,
     "input": [
      "p = plot3D(sin(x)*y, (x, 0, 6*pi), (y, -5, 5))"
     ],
     "language": "python",
     "metadata": {},
     "outputs": []
    },
    {
     "cell_type": "markdown",
     "metadata": {},
     "source": [
      "\n",
      "Arity 1, 2 or 3 for first, the two first or all coordinates."
     ]
    },
    {
     "cell_type": "code",
     "collapsed": false,
     "input": [
      "p[0].surface_color = lambda a : a\n",
      "p.show()"
     ],
     "language": "python",
     "metadata": {},
     "outputs": []
    },
    {
     "cell_type": "code",
     "collapsed": false,
     "input": [
      "p[0].surface_color = lambda a, b : b\n",
      "p.show()"
     ],
     "language": "python",
     "metadata": {},
     "outputs": []
    },
    {
     "cell_type": "code",
     "collapsed": false,
     "input": [
      "p[0].surface_color = lambda a, b, c : c\n",
      "p.show()"
     ],
     "language": "python",
     "metadata": {},
     "outputs": []
    },
    {
     "cell_type": "code",
     "collapsed": false,
     "input": [
      "p[0].surface_color = lambda a, b, c : sqrt((a-3*pi)**2+b**2)\n",
      "p.show()"
     ],
     "language": "python",
     "metadata": {},
     "outputs": []
    },
    {
     "cell_type": "markdown",
     "metadata": {},
     "source": [
      "### Parametric surface plots"
     ]
    },
    {
     "cell_type": "markdown",
     "metadata": {},
     "source": [
      "\n",
      "Arity 1 or 2 - first or both parameters."
     ]
    },
    {
     "cell_type": "code",
     "collapsed": false,
     "input": [
      "p = plot3D_surface(x*cos(4*y), x*sin(4*y), y,\n",
      "         (x, -1, 1), (y, -1, 1))"
     ],
     "language": "python",
     "metadata": {},
     "outputs": []
    },
    {
     "cell_type": "code",
     "collapsed": false,
     "input": [
      "p[0].surface_color = lambda a : a\n",
      "p.show()"
     ],
     "language": "python",
     "metadata": {},
     "outputs": []
    },
    {
     "cell_type": "code",
     "collapsed": false,
     "input": [
      "p[0].surface_color = lambda a, b : a*b\n",
      "p.show()"
     ],
     "language": "python",
     "metadata": {},
     "outputs": []
    },
    {
     "cell_type": "markdown",
     "metadata": {},
     "source": [
      "Arrity of 3 will color by coordinates."
     ]
    },
    {
     "cell_type": "code",
     "collapsed": false,
     "input": [
      "p[0].surface_color = lambda a, b, c : sqrt(a**2+b**2+c**2)\n",
      "p.show()"
     ],
     "language": "python",
     "metadata": {},
     "outputs": []
    }
   ],
   "metadata": {}
  }
 ]
}